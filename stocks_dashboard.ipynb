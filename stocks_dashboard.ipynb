{
  "nbformat": 4,
  "nbformat_minor": 0,
  "metadata": {
    "colab": {
      "name": "Stocks Dashboard (Summer 2022)",
      "provenance": [],
      "collapsed_sections": [
        "gAn-noRWuwvN",
        "Nt4JHIjW5Sc7"
      ],
      "include_colab_link": true
    },
    "kernelspec": {
      "name": "python3",
      "display_name": "Python 3"
    },
    "language_info": {
      "name": "python"
    }
  },
  "cells": [
    {
      "cell_type": "markdown",
      "metadata": {
        "id": "view-in-github",
        "colab_type": "text"
      },
      "source": [
        "<a href=\"https://colab.research.google.com/github/StevenMW11/stocks-dashboard/blob/main/stocks_dashboard.ipynb\" target=\"_parent\"><img src=\"https://colab.research.google.com/assets/colab-badge.svg\" alt=\"Open In Colab\"/></a>"
      ]
    },
    {
      "cell_type": "markdown",
      "source": [
        "# Prompt"
      ],
      "metadata": {
        "id": "b2pqHGlnmTkk"
      }
    },
    {
      "cell_type": "markdown",
      "source": [
        "\n",
        "Create an automated data dashboard which reads data about stock prices, and produces a corresponding chart of the prices over time. The dashboard should be produced by a reusable function, which, if written correctly, can be used in the provided \"Stocks Dashboard\" section at the very bottom of this notebook. The function will produce a dataviz of the stock prices over time, as well as a summary report of key metrics. \n",
        "\n",
        "To satisfy the basic requirements, the program can read data from one of the provided CSV files.  Each CSV file contains some (outdated) stock price data about the company name mentioned in the CSV file name ('AAPL', 'DIS', 'GOOGL', 'MSFT', 'NFLX', 'SBUX', or 'TSLA'). You can assume all these provided CSV files will conform to the same file naming conventions and will have the same columns and row structure.\n",
        "\n",
        "For further exploration, the program can alternatively fetch real-time stock market data from the Internet. In this case, the dashboard will be able to work with a broader range of stock symbols.\n",
        "\n"
      ],
      "metadata": {
        "id": "6eV-RyqEmVko"
      }
    },
    {
      "cell_type": "markdown",
      "metadata": {
        "id": "3GXGZ01eXGD0"
      },
      "source": [
        "# Evaluation\n",
        "\n",
        "Submissions will be evaluated according to their ability to meet all requirements (see sections below), as summarized by the following rubric:\n",
        "\n",
        "  + The **Function and Paramter Requirements** are worth 10%.\n",
        "\n",
        "  + The **Symbol Validation Requirements** are worth 10%.\n",
        "\n",
        "  + **Part I (Data Extraction)** is worth 20%. For full points, you're encouraged to fetch real-time data from the Internet instead of using the provided CSV files. If there is an attempt to fetch data from the API, the API Key will need to be handled securely, otherwise compromised keys will lead to security deductions.\n",
        "\n",
        "  + **Part II (Data Processing)** is worth 30%. For full points, make sure you answer all questions correctly. Each question is worth around the same weight. The last two \"further exploration\" questions are optional, and deliberately harder / more involved, and may earn bonus points.\n",
        "\n",
        "  + **Part III (Data Visualization)** is worth 30%. For full points, make sure you produce a polished chart, with title and axis labels and prices formatted as USD. The further exploration challenges may earn bonus points.\n",
        "\n"
      ]
    },
    {
      "cell_type": "markdown",
      "metadata": {
        "id": "9l-2yKihBm11"
      },
      "source": [
        "# Requirements\n",
        "\n"
      ]
    },
    {
      "cell_type": "markdown",
      "source": [
        "## Function and Parameter Requirements"
      ],
      "metadata": {
        "id": "Y1487VgLsEYG"
      }
    },
    {
      "cell_type": "markdown",
      "source": [
        "Define a function called `generate_stocks_report()`.\n",
        "\n",
        "The function should accept a stock symbol as a parameter input, called `symbol`, which is expected to be a string datatype. Example valid invocation: `generate_stocks_report(\"MSFT\")`.\n",
        "\n",
        "If the symbol parameter is not supplied by the user during function invokation, the function should use `\"NFLX\"` as the default `symbol`. Example valid invocation: `generate_stocks_report()`.\n",
        "\n"
      ],
      "metadata": {
        "id": "Hpqun_sCrCft"
      }
    },
    {
      "cell_type": "markdown",
      "source": [
        "## Symbol Validation Requirements"
      ],
      "metadata": {
        "id": "iFwmRIdx1Nuz"
      }
    },
    {
      "cell_type": "markdown",
      "source": [
        "If an invalid stock symbol is passed in, the report generation function should gracefully handle any errors and display only a friendly error message like \"OOPS, couldn't find that stock. Please check your symbol and try again.\"\n",
        "\n",
        "If your solution uses the provided CSV files, the only valid inputs are the symbols corresponding to the provided files. If the user tries to input a symbol that doesn't have a corresponding CSV file, that symbol is invalid.\n",
        "\n",
        "\n",
        "If your solution uses the AlphaVantage API, the only valid inputs are ones that lead to successful responses. If the user tries to input a symbol that that doesn't lead to a successful corresponding API response, that symbol is invalid.\n",
        "\n",
        "> HINT: in either case, try wrapping your data extraction method around a `try... except` block, or using conditional logic to detect whether the extraction method has produced the data we need to move forward.\n",
        "\n",
        "In either case, the program should not try to process data that doesn't exist, and the program should avoid crashed / red cells."
      ],
      "metadata": {
        "id": "uHM7nMVn1MRY"
      }
    },
    {
      "cell_type": "markdown",
      "source": [
        "## Part I (Data Extraction Requirements)"
      ],
      "metadata": {
        "id": "gAn-noRWuwvN"
      }
    },
    {
      "cell_type": "markdown",
      "source": [
        "\n",
        "**Basic Requirements**\n",
        "\n",
        "Run the **Setup Cell #1**, below, to download the provided CSV files into the colab filesystem. Optionally download them and inspect them in spreadsheet software to get familiar with the structure. Notice these files represent the price of a given stock on an example day in the past (i.e. outdated data).\n",
        "\n",
        "> NOTE: you can assume the provided CSV files adhere to the same naming conventions, so for the symbol \"NFLX\", the corresponding CSV file would be named \"daily_adjusted_nflx.csv\".\n",
        "\n",
        "**Further Exploration**\n",
        "\n",
        "Later, if you'd like to make the dashboard more dynamic, instead of reading the stock data from local CSV file(s), fetch the stock data from the Internet instead. Use the AlphaVantage API's [\"daily adjusted\" endpoint](https://www.alphavantage.co/documentation/#dailyadj). This is a \"premium\" endpoint, so first obtain a premium API Key from the professor.\n",
        "\n",
        "> SECURITY NOTE: Remember to use `getpass` to securely ask for the user's API Key, to keep this credential secure and private. We shouldn't see it's value hard-coded or displayed / printed out anywhere. See **Setup Cell #4** below, for an example of using `getpass`."
      ],
      "metadata": {
        "id": "WhsOwO5Fuyxj"
      }
    },
    {
      "cell_type": "markdown",
      "source": [
        "## Part II (Data Processing Requirements)"
      ],
      "metadata": {
        "id": "NyAiTk2htD_e"
      }
    },
    {
      "cell_type": "markdown",
      "source": [
        "**Basic Requirements**\n",
        "\n",
        "When invoked, the report generation function should reference the stock data obtained in Part I to display a report of details about the stock, including answers to the questions below.\n",
        "\n",
        "> NOTE: the provided answers below are for NFLX, so use NFLX when checking your answers...\n",
        "\n",
        "A) Print the **column names** / available fields (i.e. `['timestamp', 'open', 'high', 'low', 'close', 'adjusted_close', 'volume', 'dividend_amount', 'split_coefficient']`).\n",
        "\n",
        "B) Print the **number of rows** / available days (i.e. `100`).\n",
        "\n",
        "C) Print the **latest day** available (i.e. `2021-10-18`).\n",
        "\n",
        "D) Print the **earliest day** available (i.e. `2021-05-27`).\n",
        "\n",
        "E) Print the (adjusted) **closing price on the latest day**, formatted as dollars and cents with a dollar sign and two decimal places (i.e. `$637.97`).\n",
        "\n",
        "F) Print the (adjusted) **closing price on the earliest day**, formatted as dollars and cents with a dollar sign and two decimal places (i.e. `$503.86`).\n",
        "\n",
        "G) Print the **100-day high price**, formatted as dollars and cents with a dollar sign and two decimal places (i.e. `$646.84`). NOTE: the 100-day high price is equal to the maximum of all the available high prices.\n",
        "\n",
        "\n",
        "H) Print the **100-day low price**, formatted as dollars and cents with a dollar sign and two decimal places (i.e. `$482.14`). NOTE: the 100-day low price is equal to the minimum of all the available low prices.\n",
        "\n",
        "**Further Exploration**\n",
        "\n",
        "I) Print the **percentage change** between the earliest closing price and the latest closing price, as identified in parts G and H, above, formatted with a percent sign and rounded to four decimal places (i.e. `26.6165%`). NOTE: percent change is defined as `(latest - earliest) / earliest`. HINT: leverage the `to_pct` function provided in the setup cell when printing the final percentage.\n",
        "\n",
        "J) Print the **50 day moving average price for the latest day** (i.e. something around `$581.32`, depending on your methodology). The 50-day moving average for each given day is calculated by averaging the closing prices of the previous 50 daily periods. HINT: create a separate column to store the 50-day moving average for each day, using the [`rolling` method](https://pandas.pydata.org/docs/reference/api/pandas.DataFrame.rolling.html) on the closing prices column, with a window of 50, and then taking the mean of those values.\n",
        "\n"
      ],
      "metadata": {
        "id": "MIxFLIyVsVuM"
      }
    },
    {
      "cell_type": "markdown",
      "source": [
        "## Part III (Dataviz Requirements)"
      ],
      "metadata": {
        "id": "hblSKrSFr1Qp"
      }
    },
    {
      "cell_type": "markdown",
      "source": [
        "\n",
        "When invoked, the report generation function should also display a chart of the closing prices over time, including the following components:\n",
        "\n",
        "  1. **Chart Title**, which includes the selected stock symbol (i.e. `\"Daily Stock Prices (NFLX)\"`)\n",
        "  2. **Axis labels** (i.e. \"Closing Price\" and \"Date\" respectively).\n",
        "  3. **Prices formatted with a dollar signs**, wherever they appear (see axis ticks).\n",
        "\n",
        "\n",
        "Example:\n",
        "\n",
        "<img width=\"1266\" alt=\"Screen Shot 2021-10-21 at 10 08 39 AM\" src=\"https://user-images.githubusercontent.com/1328807/138295257-c285e730-721a-445f-868d-fab55588dab1.png\">\n",
        "\n",
        "> NOTE: It doesn't matter whether the chart comes before or after the stock details."
      ],
      "metadata": {
        "id": "GfiOnMsvr3ow"
      }
    },
    {
      "cell_type": "markdown",
      "source": [
        "**Further Exploration**\n",
        "\n",
        "Consider displaying a [candlestick chart](https://plotly.com/python/ohlc-charts/) instead of a line chart. \n",
        "\n",
        "If you do, consider also displaying a 50-day moving average trend line as well. HINT: if you do both, you might need to plot two different graph objects (see [example](https://github.com/prof-rossetti/intro-to-python/blob/main/notes/python/packages/plotly.md#charting-multiple-graph-objects)).\n",
        "\n"
      ],
      "metadata": {
        "id": "-nqE2tQk3JB6"
      }
    },
    {
      "cell_type": "markdown",
      "metadata": {
        "id": "Nt4JHIjW5Sc7"
      },
      "source": [
        "# Setup"
      ]
    },
    {
      "cell_type": "code",
      "metadata": {
        "id": "UU9nTIKY2hva",
        "colab": {
          "base_uri": "https://localhost:8080/"
        },
        "outputId": "fdfb44b3-a25b-4e18-e7c7-ad8bf32433e3"
      },
      "source": [
        "#\n",
        "# SETUP CELL 1\n",
        "# ... run this cell to download some CSV files into the colab filesystem\n",
        "# ... for use in the basic requirements\n",
        "\n",
        "import os\n",
        "\n",
        "symbols = [\"googl\", \"msft\", \"nflx\", \"dis\", \"sbux\", \"aapl\", \"tsla\"]\n",
        "\n",
        "for symbol in symbols:\n",
        "    csv_filename = f\"daily_adjusted_{symbol}.csv\"\n",
        "    if not os.path.isfile(csv_filename):\n",
        "        print(\"DOWNLOADING\", \"...\", csv_filename)\n",
        "        \n",
        "        file_url = f\"https://raw.githubusercontent.com/prof-rossetti/intro-to-python/main/data/{csv_filename}\"\n",
        "        !wget -q $file_url\n"
      ],
      "execution_count": null,
      "outputs": [
        {
          "output_type": "stream",
          "name": "stdout",
          "text": [
            "DOWNLOADING ... daily_adjusted_googl.csv\n",
            "DOWNLOADING ... daily_adjusted_msft.csv\n",
            "DOWNLOADING ... daily_adjusted_nflx.csv\n",
            "DOWNLOADING ... daily_adjusted_dis.csv\n",
            "DOWNLOADING ... daily_adjusted_sbux.csv\n",
            "DOWNLOADING ... daily_adjusted_aapl.csv\n",
            "DOWNLOADING ... daily_adjusted_tsla.csv\n"
          ]
        }
      ]
    },
    {
      "cell_type": "code",
      "metadata": {
        "colab": {
          "base_uri": "https://localhost:8080/"
        },
        "id": "IgN2IJaNaxaY",
        "outputId": "aec4ba5e-0a38-4d19-af60-de8782404a9f"
      },
      "source": [
        "#\n",
        "# SETUP CELL 2\n",
        "# ... run this cell to define a dollar-sign formatting function, so you can use it later\n",
        "\n",
        "def to_usd(my_price):\n",
        "    \"\"\"\n",
        "    Converts a numeric value to usd-formatted string, for printing and display purposes.\n",
        "    \n",
        "    Param: my_price (int or float) like 4000.444444\n",
        "    \n",
        "    Example: to_usd(4000.444444)\n",
        "    \n",
        "    Returns: $4,000.44\n",
        "    \"\"\"\n",
        "    return f\"${my_price:,.2f}\" \n",
        "\n",
        "print(to_usd(4.5))\n",
        "print(to_usd(200000.9999))"
      ],
      "execution_count": null,
      "outputs": [
        {
          "output_type": "stream",
          "name": "stdout",
          "text": [
            "$4.50\n",
            "$200,001.00\n"
          ]
        }
      ]
    },
    {
      "cell_type": "code",
      "metadata": {
        "colab": {
          "base_uri": "https://localhost:8080/"
        },
        "id": "FzzR6Rw_KNA4",
        "outputId": "0cec867a-3b4e-482a-99b5-53d1730b7db1"
      },
      "source": [
        "#\n",
        "# SETUP CELL 3\n",
        "# ... run this cell to define a percent-sign formatting function, so you can use it later\n",
        "\n",
        "def to_pct(my_number):\n",
        "    \"\"\"\n",
        "    Formats a decimal number as a percentage, rounded to 4 decimal places, with a percent sign.\n",
        "    \n",
        "    Param my_number (float) like 0.95555555555\n",
        "    \n",
        "    Returns (str) like '95.5556%'\n",
        "    \"\"\"\n",
        "    return f\"{(my_number * 100):.4f}%\"\n",
        "\n",
        "\n",
        "print(to_pct(0.5))\n",
        "print(to_pct(.955555555))"
      ],
      "execution_count": null,
      "outputs": [
        {
          "output_type": "stream",
          "name": "stdout",
          "text": [
            "50.0000%\n",
            "95.5556%\n"
          ]
        }
      ]
    },
    {
      "cell_type": "code",
      "source": [
        "#\n",
        "# SETUP CELL 4\n",
        "# ... uncomment the code below and run this cell to securely ask for an API key\n",
        "# ... (for use in the further exploration only)\n",
        "\n",
        "\n",
        "# from getpass import getpass\n",
        "# api_key = getpass(\"Please input your AlphaVantage API Key: \")"
      ],
      "metadata": {
        "colab": {
          "base_uri": "https://localhost:8080/"
        },
        "id": "p8zJbagUpyJ-",
        "outputId": "4b51591d-885b-493d-bee1-34b4aaff29e5"
      },
      "execution_count": null,
      "outputs": [
        {
          "name": "stdout",
          "output_type": "stream",
          "text": [
            "Please input your AlphaVantage API Key: ··········\n"
          ]
        }
      ]
    },
    {
      "cell_type": "markdown",
      "source": [
        "# Solution"
      ],
      "metadata": {
        "id": "pe3fw0QxxXx_"
      }
    },
    {
      "cell_type": "markdown",
      "metadata": {
        "id": "0YvtE8jBLUnQ"
      },
      "source": [
        "## Report Generation Function \n"
      ]
    },
    {
      "cell_type": "code",
      "metadata": {
        "id": "5-Kndyk-QGvH"
      },
      "source": [
        "\n",
        "\n",
        "# todo: define the generate_stocks_report function here\n",
        "\n",
        "\n",
        "\n",
        "\n",
        "\n",
        "\n",
        "\n",
        "\n",
        "\n",
        "\n",
        "\n",
        "\n",
        "\n",
        "\n",
        "\n",
        "\n",
        "\n",
        "\n"
      ],
      "execution_count": null,
      "outputs": []
    },
    {
      "cell_type": "code",
      "source": [
        "# If your function works, we should be able to uncomment the lines below and use it like this:\n",
        "\n",
        "# generate_stocks_report()\n",
        "# generate_stocks_report(\"MSFT\")"
      ],
      "metadata": {
        "id": "un9IR2dYt6Jg"
      },
      "execution_count": null,
      "outputs": []
    },
    {
      "cell_type": "markdown",
      "metadata": {
        "id": "b7MgzGtogBMq"
      },
      "source": [
        "## Stocks Data Dashboard\n",
        "\n",
        "If your function works, we should be able to use it in the dashboard below:\n",
        "\n",
        " 1. Use the dropdown to select a stock symbol.\n",
        " 2. Run run the cell to generate a report and chart chart of prices over time."
      ]
    },
    {
      "cell_type": "code",
      "metadata": {
        "id": "tQ9-AlkkQJ8F"
      },
      "source": [
        "# @title Stock Selection Form\n",
        "symbol = \"AAPL\" # @param ['MSFT', 'GOOGL', 'AAPL', 'NFLX', \"SBUX\", \"TSLA\", \"DIS\"]\n",
        "generate_stocks_report(symbol)"
      ],
      "execution_count": null,
      "outputs": []
    },
    {
      "cell_type": "markdown",
      "source": [
        "\n",
        "# Scratch Work\n"
      ],
      "metadata": {
        "id": "bVmfvyo6dTDo"
      }
    },
    {
      "cell_type": "markdown",
      "source": [
        "\n",
        "Optionally use these cells as scratch-work to practice your ability to produce the desired dataviz. \n",
        "\n",
        "> NOTE: These practice cells won't be evaluated. Only the report generation function above will be evaluated. So make sure that your final work ends up in the report generation function!\n",
        "\n",
        "\n",
        "\n"
      ],
      "metadata": {
        "id": "i0Ufh9nP4L5u"
      }
    },
    {
      "cell_type": "code",
      "source": [
        ""
      ],
      "metadata": {
        "id": "-Suaz2wsAgXQ"
      },
      "execution_count": null,
      "outputs": []
    },
    {
      "cell_type": "code",
      "source": [
        ""
      ],
      "metadata": {
        "id": "yEcklk4jAgQC"
      },
      "execution_count": null,
      "outputs": []
    },
    {
      "cell_type": "code",
      "source": [
        ""
      ],
      "metadata": {
        "id": "jhUriA2YAgJH"
      },
      "execution_count": null,
      "outputs": []
    },
    {
      "cell_type": "code",
      "source": [
        ""
      ],
      "metadata": {
        "id": "U6QieqLsAf4I"
      },
      "execution_count": null,
      "outputs": []
    }
  ]
}