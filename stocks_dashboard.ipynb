{
  "cells": [
    {
      "cell_type": "markdown",
      "metadata": {
        "colab_type": "text",
        "id": "view-in-github"
      },
      "source": [
        "<a href=\"https://colab.research.google.com/github/StevenMW11/stocks-dashboard/blob/main/stocks_dashboard.ipynb\" target=\"_parent\"><img src=\"https://colab.research.google.com/assets/colab-badge.svg\" alt=\"Open In Colab\"/></a>"
      ]
    },
    {
      "cell_type": "markdown",
      "metadata": {
        "id": "b2pqHGlnmTkk"
      },
      "source": [
        "# Prompt"
      ]
    },
    {
      "cell_type": "markdown",
      "metadata": {
        "id": "6eV-RyqEmVko"
      },
      "source": [
        "\n",
        "Create an automated data dashboard which reads data about stock prices, and produces a corresponding chart of the prices over time. The dashboard should be produced by a reusable function, which, if written correctly, can be used in the provided \"Stocks Dashboard\" section at the very bottom of this notebook. The function will produce a dataviz of the stock prices over time, as well as a summary report of key metrics. \n",
        "\n",
        "To satisfy the basic requirements, the program can read data from one of the provided CSV files.  Each CSV file contains some (outdated) stock price data about the company name mentioned in the CSV file name ('AAPL', 'DIS', 'GOOGL', 'MSFT', 'NFLX', 'SBUX', or 'TSLA'). You can assume all these provided CSV files will conform to the same file naming conventions and will have the same columns and row structure.\n",
        "\n",
        "For further exploration, the program can alternatively fetch real-time stock market data from the Internet. In this case, the dashboard will be able to work with a broader range of stock symbols.\n",
        "\n"
      ]
    },
    {
      "cell_type": "markdown",
      "metadata": {
        "id": "3GXGZ01eXGD0"
      },
      "source": [
        "# Evaluation\n",
        "\n",
        "Submissions will be evaluated according to their ability to meet all requirements (see sections below), as summarized by the following rubric:\n",
        "\n",
        "  + The **Function and Paramter Requirements** are worth 10%.\n",
        "\n",
        "  + The **Symbol Validation Requirements** are worth 10%.\n",
        "\n",
        "  + **Part I (Data Extraction)** is worth 20%. For full points, you're encouraged to fetch real-time data from the Internet instead of using the provided CSV files. If there is an attempt to fetch data from the API, the API Key will need to be handled securely, otherwise compromised keys will lead to security deductions.\n",
        "\n",
        "  + **Part II (Data Processing)** is worth 30%. For full points, make sure you answer all questions correctly. Each question is worth around the same weight. The last two \"further exploration\" questions are optional, and deliberately harder / more involved, and may earn bonus points.\n",
        "\n",
        "  + **Part III (Data Visualization)** is worth 30%. For full points, make sure you produce a polished chart, with title and axis labels and prices formatted as USD. The further exploration challenges may earn bonus points.\n",
        "\n"
      ]
    },
    {
      "cell_type": "markdown",
      "metadata": {
        "id": "9l-2yKihBm11"
      },
      "source": [
        "# Requirements\n",
        "\n"
      ]
    },
    {
      "cell_type": "markdown",
      "metadata": {
        "id": "Y1487VgLsEYG"
      },
      "source": [
        "## Function and Parameter Requirements"
      ]
    },
    {
      "cell_type": "markdown",
      "metadata": {
        "id": "Hpqun_sCrCft"
      },
      "source": [
        "Define a function called `generate_stocks_report()`.\n",
        "\n",
        "The function should accept a stock symbol as a parameter input, called `symbol`, which is expected to be a string datatype. Example valid invocation: `generate_stocks_report(\"MSFT\")`.\n",
        "\n",
        "If the symbol parameter is not supplied by the user during function invokation, the function should use `\"NFLX\"` as the default `symbol`. Example valid invocation: `generate_stocks_report()`.\n",
        "\n"
      ]
    },
    {
      "cell_type": "markdown",
      "metadata": {
        "id": "iFwmRIdx1Nuz"
      },
      "source": [
        "## Symbol Validation Requirements"
      ]
    },
    {
      "cell_type": "markdown",
      "metadata": {
        "id": "uHM7nMVn1MRY"
      },
      "source": [
        "If an invalid stock symbol is passed in, the report generation function should gracefully handle any errors and display only a friendly error message like \"OOPS, couldn't find that stock. Please check your symbol and try again.\"\n",
        "\n",
        "If your solution uses the provided CSV files, the only valid inputs are the symbols corresponding to the provided files. If the user tries to input a symbol that doesn't have a corresponding CSV file, that symbol is invalid.\n",
        "\n",
        "\n",
        "If your solution uses the AlphaVantage API, the only valid inputs are ones that lead to successful responses. If the user tries to input a symbol that that doesn't lead to a successful corresponding API response, that symbol is invalid.\n",
        "\n",
        "> HINT: in either case, try wrapping your data extraction method around a `try... except` block, or using conditional logic to detect whether the extraction method has produced the data we need to move forward.\n",
        "\n",
        "In either case, the program should not try to process data that doesn't exist, and the program should avoid crashed / red cells."
      ]
    },
    {
      "cell_type": "markdown",
      "metadata": {
        "id": "gAn-noRWuwvN"
      },
      "source": [
        "## Part I (Data Extraction Requirements)"
      ]
    },
    {
      "cell_type": "markdown",
      "metadata": {
        "id": "WhsOwO5Fuyxj"
      },
      "source": [
        "\n",
        "**Basic Requirements**\n",
        "\n",
        "Run the **Setup Cell #1**, below, to download the provided CSV files into the colab filesystem. Optionally download them and inspect them in spreadsheet software to get familiar with the structure. Notice these files represent the price of a given stock on an example day in the past (i.e. outdated data).\n",
        "\n",
        "> NOTE: you can assume the provided CSV files adhere to the same naming conventions, so for the symbol \"NFLX\", the corresponding CSV file would be named \"daily_adjusted_nflx.csv\".\n",
        "\n",
        "**Further Exploration**\n",
        "\n",
        "Later, if you'd like to make the dashboard more dynamic, instead of reading the stock data from local CSV file(s), fetch the stock data from the Internet instead. Use the AlphaVantage API's [\"daily adjusted\" endpoint](https://www.alphavantage.co/documentation/#dailyadj). This is a \"premium\" endpoint, so first obtain a premium API Key from the professor.\n",
        "\n",
        "> SECURITY NOTE: Remember to use `getpass` to securely ask for the user's API Key, to keep this credential secure and private. We shouldn't see it's value hard-coded or displayed / printed out anywhere. See **Setup Cell #4** below, for an example of using `getpass`."
      ]
    },
    {
      "cell_type": "markdown",
      "metadata": {
        "id": "NyAiTk2htD_e"
      },
      "source": [
        "## Part II (Data Processing Requirements)"
      ]
    },
    {
      "cell_type": "markdown",
      "metadata": {
        "id": "MIxFLIyVsVuM"
      },
      "source": [
        "**Basic Requirements**\n",
        "\n",
        "When invoked, the report generation function should reference the stock data obtained in Part I to display a report of details about the stock, including answers to the questions below.\n",
        "\n",
        "> NOTE: the provided answers below are for NFLX, so use NFLX when checking your answers...\n",
        "\n",
        "A) Print the **column names** / available fields (i.e. `['timestamp', 'open', 'high', 'low', 'close', 'adjusted_close', 'volume', 'dividend_amount', 'split_coefficient']`).\n",
        "\n",
        "B) Print the **number of rows** / available days (i.e. `100`).\n",
        "\n",
        "C) Print the **latest day** available (i.e. `2021-10-18`).\n",
        "\n",
        "D) Print the **earliest day** available (i.e. `2021-05-27`).\n",
        "\n",
        "E) Print the (adjusted) **closing price on the latest day**, formatted as dollars and cents with a dollar sign and two decimal places (i.e. `$637.97`).\n",
        "\n",
        "F) Print the (adjusted) **closing price on the earliest day**, formatted as dollars and cents with a dollar sign and two decimal places (i.e. `$503.86`).\n",
        "\n",
        "G) Print the **100-day high price**, formatted as dollars and cents with a dollar sign and two decimal places (i.e. `$646.84`). NOTE: the 100-day high price is equal to the maximum of all the available high prices.\n",
        "\n",
        "\n",
        "H) Print the **100-day low price**, formatted as dollars and cents with a dollar sign and two decimal places (i.e. `$482.14`). NOTE: the 100-day low price is equal to the minimum of all the available low prices.\n",
        "\n",
        "**Further Exploration**\n",
        "\n",
        "I) Print the **percentage change** between the earliest closing price and the latest closing price, as identified in parts G and H, above, formatted with a percent sign and rounded to four decimal places (i.e. `26.6165%`). NOTE: percent change is defined as `(latest - earliest) / earliest`. HINT: leverage the `to_pct` function provided in the setup cell when printing the final percentage.\n",
        "\n",
        "J) Print the **50 day moving average price for the latest day** (i.e. something around `$581.32`, depending on your methodology). The 50-day moving average for each given day is calculated by averaging the closing prices of the previous 50 daily periods. HINT: create a separate column to store the 50-day moving average for each day, using the [`rolling` method](https://pandas.pydata.org/docs/reference/api/pandas.DataFrame.rolling.html) on the closing prices column, with a window of 50, and then taking the mean of those values.\n",
        "\n"
      ]
    },
    {
      "cell_type": "markdown",
      "metadata": {
        "id": "hblSKrSFr1Qp"
      },
      "source": [
        "## Part III (Dataviz Requirements)"
      ]
    },
    {
      "cell_type": "markdown",
      "metadata": {
        "id": "GfiOnMsvr3ow"
      },
      "source": [
        "\n",
        "When invoked, the report generation function should also display a chart of the closing prices over time, including the following components:\n",
        "\n",
        "  1. **Chart Title**, which includes the selected stock symbol (i.e. `\"Daily Stock Prices (NFLX)\"`)\n",
        "  2. **Axis labels** (i.e. \"Closing Price\" and \"Date\" respectively).\n",
        "  3. **Prices formatted with a dollar signs**, wherever they appear (see axis ticks).\n",
        "\n",
        "\n",
        "Example:\n",
        "\n",
        "<img width=\"1266\" alt=\"Screen Shot 2021-10-21 at 10 08 39 AM\" src=\"https://user-images.githubusercontent.com/1328807/138295257-c285e730-721a-445f-868d-fab55588dab1.png\">\n",
        "\n",
        "> NOTE: It doesn't matter whether the chart comes before or after the stock details."
      ]
    },
    {
      "cell_type": "markdown",
      "metadata": {
        "id": "-nqE2tQk3JB6"
      },
      "source": [
        "**Further Exploration**\n",
        "\n",
        "Consider displaying a [candlestick chart](https://plotly.com/python/ohlc-charts/) instead of a line chart. \n",
        "\n",
        "If you do, consider also displaying a 50-day moving average trend line as well. HINT: if you do both, you might need to plot two different graph objects (see [example](https://github.com/prof-rossetti/intro-to-python/blob/main/notes/python/packages/plotly.md#charting-multiple-graph-objects)).\n",
        "\n"
      ]
    },
    {
      "cell_type": "markdown",
      "metadata": {
        "id": "Nt4JHIjW5Sc7"
      },
      "source": [
        "# Setup"
      ]
    },
    {
      "cell_type": "code",
      "execution_count": 106,
      "metadata": {},
      "outputs": [],
      "source": [
        "api = \"ZA7MCBB2Y439DIXR\""
      ]
    },
    {
      "cell_type": "code",
      "execution_count": 107,
      "metadata": {
        "colab": {
          "base_uri": "https://localhost:8080/"
        },
        "id": "UU9nTIKY2hva",
        "outputId": "fdfb44b3-a25b-4e18-e7c7-ad8bf32433e3"
      },
      "outputs": [],
      "source": [
        "# SETUP CELL 1\n",
        "# ... run this cell to download some CSV files into the colab filesystem\n",
        "# ... for use in the basic requirements\n",
        "\n",
        "import os\n",
        "import pandas as pd\n",
        "import plotly.express as px\n",
        "import requests #ADDED IN FOR REQUEST BELOW (TO DOWNLOAD CSV'S TO LOCAL ENVIRONMENT)\n",
        "\n",
        "symbols = [\"googl\", \"msft\", \"nflx\", \"dis\", \"sbux\", \"aapl\", \"tsla\"]\n",
        "\n",
        "for symbol in symbols:\n",
        "    csv_filename = f\"daily_adjusted_{symbol}.csv\"\n",
        "    if not os.path.isfile(csv_filename):\n",
        "        print(\"DOWNLOADING\", \"...\", csv_filename)\n",
        "\n",
        "        #ADJUSTED THE FUNCTION TO WRITE TO A CSV LOCALLY - AS WORK WAS DONE IN LOCAL ENVIRONMENT (NOT COLAB)\n",
        "        file_url = requests.get(f\"https://raw.githubusercontent.com/prof-rossetti/intro-to-python/main/data/{csv_filename}\")\n",
        "        # file_url = f\"https://raw.githubusercontent.com/prof-rossetti/intro-to-python/main/data/{csv_filename}\"\n",
        "        \n",
        "        with open(f\"daily_adjusted_{symbol}.csv\", \"wb\") as file:\n",
        "            file.write(file_url.content)\n",
        "        #!wget -q $file_url"
      ]
    },
    {
      "cell_type": "code",
      "execution_count": 108,
      "metadata": {
        "colab": {
          "base_uri": "https://localhost:8080/"
        },
        "id": "IgN2IJaNaxaY",
        "outputId": "aec4ba5e-0a38-4d19-af60-de8782404a9f"
      },
      "outputs": [],
      "source": [
        "# SETUP CELL 2\n",
        "# ... run this cell to define a dollar-sign formatting function, so you can use it later\n",
        "\n",
        "def to_usd(my_price):\n",
        "    \"\"\"\n",
        "    Converts a numeric value to usd-formatted string, for printing and display purposes.\n",
        "    \n",
        "    Param: my_price (int or float) like 4000.444444\n",
        "    \n",
        "    Example: to_usd(4000.444444)\n",
        "    \n",
        "    Returns: $4,000.44\n",
        "    \"\"\"\n",
        "    return f\"${my_price:,.2f}\" \n",
        "\n",
        "#print(to_usd(4.5))\n",
        "#print(to_usd(200000.9999))"
      ]
    },
    {
      "cell_type": "code",
      "execution_count": 109,
      "metadata": {
        "colab": {
          "base_uri": "https://localhost:8080/"
        },
        "id": "FzzR6Rw_KNA4",
        "outputId": "0cec867a-3b4e-482a-99b5-53d1730b7db1"
      },
      "outputs": [],
      "source": [
        "# SETUP CELL 3\n",
        "# ... run this cell to define a percent-sign formatting function, so you can use it later\n",
        "\n",
        "def to_pct(my_number):\n",
        "    \"\"\"\n",
        "    Formats a decimal number as a percentage, rounded to 4 decimal places, with a percent sign.\n",
        "    \n",
        "    Param my_number (float) like 0.95555555555\n",
        "    \n",
        "    Returns (str) like '95.5556%'\n",
        "    \"\"\"\n",
        "    return f\"{(my_number * 100):.4f}%\"\n",
        "    \n",
        "#print(to_pct(0.5))\n",
        "#print(to_pct(.955555555))"
      ]
    },
    {
      "cell_type": "code",
      "execution_count": 110,
      "metadata": {
        "colab": {
          "base_uri": "https://localhost:8080/"
        },
        "id": "p8zJbagUpyJ-",
        "outputId": "4b51591d-885b-493d-bee1-34b4aaff29e5"
      },
      "outputs": [],
      "source": [
        "# SETUP CELL 4\n",
        "# ... uncomment the code below and run this cell to securely ask for an API key\n",
        "# ... (for use in the further exploration only)\n",
        "\n",
        "#from getpass import getpass\n",
        "#api_key = getpass(\"Please input your AlphaVantage API Key: \")"
      ]
    },
    {
      "cell_type": "markdown",
      "metadata": {
        "id": "pe3fw0QxxXx_"
      },
      "source": [
        "# Solution"
      ]
    },
    {
      "cell_type": "markdown",
      "metadata": {
        "id": "0YvtE8jBLUnQ"
      },
      "source": [
        "## Report Generation Function \n"
      ]
    },
    {
      "cell_type": "code",
      "execution_count": 111,
      "metadata": {
        "id": "5-Kndyk-QGvH"
      },
      "outputs": [],
      "source": [
        "# todo: define the generate_stocks_report function here\n",
        "\n",
        "#DEFINE A NEW FUNCTION TO DO ALL THE WORK... SO YOUR CONDITIONAL CHECKING THE SYMBOL INPUT IS CLEAN\n",
        "\n",
        "def stock_report_analysis(symbol):\n",
        "#GET THE CORRECT DATA (USING SYMBOL) & CREATE PANDAS DF\n",
        "    stock_data = f\"daily_adjusted_{symbol}.csv\"\n",
        "    df = pd.read_csv(stock_data)\n",
        "        \n",
        "    print(f\"Stock Report: {symbol}\")\n",
        "    #PRINT COLUMN NAMES \n",
        "    headers = df.columns\n",
        "    header_list = []\n",
        "    for header in headers:\n",
        "        header_list.append(header)\n",
        "    print (f\"...Available Information: {header_list}\")\n",
        "    \n",
        "    #PRINT NUMBER OF ROWS\n",
        "    record_count = len(df.index)\n",
        "    print(f\"...Total Records: {record_count}\")\n",
        "    \n",
        "    #PRINT LATEST DAY AVAILABLE - SORT DATAFRAME BY DATE (DESCENDING)\n",
        "    df.sort_values(by='timestamp', ascending=False)\n",
        "    last_date = df.iloc[0]['timestamp']\n",
        "    print(f\"...Latest Date: {last_date}\")\n",
        "    \n",
        "    #PRINT EARLIEST DAY AVAILABLE\n",
        "    first_date = df.iloc[record_count-1]['timestamp']\n",
        "    print(f\"...Earliest Date: {first_date}\")\n",
        "    \n",
        "    #PRINT LATEST DAY CLOSING PRICE\n",
        "    last_date_closing_price = df.iloc[0]['adjusted_close']\n",
        "    last_date_closing_price_usd = to_usd(last_date_closing_price)\n",
        "    print(f\"...Adjusted Closing Price on {last_date}: {last_date_closing_price_usd}\")\n",
        "    \n",
        "    #PRINT EARLIEST DAY CLOSING PRICE\n",
        "    first_date_closing_price = df.iloc[record_count-1]['adjusted_close']\n",
        "    first_date_closing_price_usd = to_usd(first_date_closing_price)\n",
        "    print(f\"...Adjusted Closing Price on {first_date}: {first_date_closing_price_usd}\")\n",
        "    \n",
        "    #PRINT 100 DAY HIGHEST/LOWEST PRICE (MAX/MIN)\n",
        "    hundred_day_max = to_usd(max(df['high']))\n",
        "    hundred_day_min = to_usd(min(df['low']))\n",
        "    print(f\"...100 Day High: {hundred_day_max}\")       \n",
        "    print(f\"...100 Day Low: {hundred_day_min}\")       \n",
        "    \n",
        "    #PRINT %CHANGE OF CLOSING PRICES\n",
        "    pct_change = to_pct((int(last_date_closing_price)-int(first_date_closing_price))/(int(first_date_closing_price)))\n",
        "    print(f\"...Closing Price Percentage Change: {pct_change}\")         \n",
        "    \n",
        "    #CREATE 50 DAY MOVING AVERAGE\n",
        "    df['moving_average'] = df['adjusted_close'].rolling(50).mean()\n",
        "    fifty_day_ma = to_usd(df['moving_average'].mean())\n",
        "    print(f\"...50 Day Moving Average: {fifty_day_ma}\")\n",
        "    \n",
        "    #CREATE DATA VISUALIZATION THROUGH DATAVIZ\n",
        "    viz = px.line(data_frame=df,x=\"timestamp\",y=\"close\",title=f\"Daily Stock Prices ({symbol})\",labels={\"timestamp\":\"Date\",\"close\":\"Closing Price\"})\n",
        "    viz.update_yaxes(nticks=10)\n",
        "    viz.show()\n",
        "    return\n",
        "\n",
        "# use of =None taken from stackoverflow: https://stackoverflow.com/questions/55025149/how-to-check-for-no-argument-sent-to-a-function-in-python\n",
        "\n",
        "def generate_stocks_report(symbol=None):\n",
        "    if symbol is None:\n",
        "        return stock_report_analysis(\"NFLX\")\n",
        "    elif type(symbol) == str:\n",
        "        if symbol.lower() in symbols:\n",
        "            return stock_report_analysis(symbol)\n",
        "        else:\n",
        "            return \"OOPS, that ticker symbol could not be found. Please review and try again.\"\n",
        "    else:\n",
        "        return \"OOPS, that ticker symbol could not be found. Please review and try again.\"\n"
      ]
    },
    {
      "cell_type": "code",
      "execution_count": 112,
      "metadata": {
        "id": "un9IR2dYt6Jg"
      },
      "outputs": [
        {
          "name": "stdout",
          "output_type": "stream",
          "text": [
            "Stock Report: MSFT\n",
            "...Available Information: ['timestamp', 'open', 'high', 'low', 'close', 'adjusted_close', 'volume', 'dividend_amount', 'split_coefficient']\n",
            "...Total Records: 100\n",
            "...Latest Date: 2021-10-18\n",
            "...Earliest Date: 2021-05-27\n",
            "...Adjusted Closing Price on 2021-10-18: $307.29\n",
            "...Adjusted Closing Price on 2021-05-27: $248.83\n",
            "...100 Day High: $308.21\n",
            "...100 Day Low: $243.00\n",
            "...Closing Price Percentage Change: 23.7903%\n",
            "...50 Day Moving Average: $287.08\n"
          ]
        },
        {
          "data": {
            "application/vnd.plotly.v1+json": {
              "config": {
                "plotlyServerURL": "https://plot.ly"
              },
              "data": [
                {
                  "hovertemplate": "Date=%{x}<br>Closing Price=%{y}<extra></extra>",
                  "legendgroup": "",
                  "line": {
                    "color": "#636efa",
                    "dash": "solid"
                  },
                  "marker": {
                    "symbol": "circle"
                  },
                  "mode": "lines",
                  "name": "",
                  "orientation": "v",
                  "showlegend": false,
                  "type": "scatter",
                  "x": [
                    "2021-10-18",
                    "2021-10-15",
                    "2021-10-14",
                    "2021-10-13",
                    "2021-10-12",
                    "2021-10-11",
                    "2021-10-08",
                    "2021-10-07",
                    "2021-10-06",
                    "2021-10-05",
                    "2021-10-04",
                    "2021-10-01",
                    "2021-09-30",
                    "2021-09-29",
                    "2021-09-28",
                    "2021-09-27",
                    "2021-09-24",
                    "2021-09-23",
                    "2021-09-22",
                    "2021-09-21",
                    "2021-09-20",
                    "2021-09-17",
                    "2021-09-16",
                    "2021-09-15",
                    "2021-09-14",
                    "2021-09-13",
                    "2021-09-10",
                    "2021-09-09",
                    "2021-09-08",
                    "2021-09-07",
                    "2021-09-03",
                    "2021-09-02",
                    "2021-09-01",
                    "2021-08-31",
                    "2021-08-30",
                    "2021-08-27",
                    "2021-08-26",
                    "2021-08-25",
                    "2021-08-24",
                    "2021-08-23",
                    "2021-08-20",
                    "2021-08-19",
                    "2021-08-18",
                    "2021-08-17",
                    "2021-08-16",
                    "2021-08-13",
                    "2021-08-12",
                    "2021-08-11",
                    "2021-08-10",
                    "2021-08-09",
                    "2021-08-06",
                    "2021-08-05",
                    "2021-08-04",
                    "2021-08-03",
                    "2021-08-02",
                    "2021-07-30",
                    "2021-07-29",
                    "2021-07-28",
                    "2021-07-27",
                    "2021-07-26",
                    "2021-07-23",
                    "2021-07-22",
                    "2021-07-21",
                    "2021-07-20",
                    "2021-07-19",
                    "2021-07-16",
                    "2021-07-15",
                    "2021-07-14",
                    "2021-07-13",
                    "2021-07-12",
                    "2021-07-09",
                    "2021-07-08",
                    "2021-07-07",
                    "2021-07-06",
                    "2021-07-02",
                    "2021-07-01",
                    "2021-06-30",
                    "2021-06-29",
                    "2021-06-28",
                    "2021-06-25",
                    "2021-06-24",
                    "2021-06-23",
                    "2021-06-22",
                    "2021-06-21",
                    "2021-06-18",
                    "2021-06-17",
                    "2021-06-16",
                    "2021-06-15",
                    "2021-06-14",
                    "2021-06-11",
                    "2021-06-10",
                    "2021-06-09",
                    "2021-06-08",
                    "2021-06-07",
                    "2021-06-04",
                    "2021-06-03",
                    "2021-06-02",
                    "2021-06-01",
                    "2021-05-28",
                    "2021-05-27"
                  ],
                  "xaxis": "x",
                  "y": [
                    307.29,
                    304.21,
                    302.75,
                    296.31,
                    292.88,
                    294.23,
                    294.85,
                    294.85,
                    293.11,
                    288.76,
                    283.11,
                    289.1,
                    281.92,
                    284,
                    283.52,
                    294.17,
                    299.35,
                    299.56,
                    298.58,
                    294.8,
                    294.3,
                    299.87,
                    305.22,
                    304.82,
                    299.79,
                    296.99,
                    295.71,
                    297.25,
                    300.21,
                    300.18,
                    301.14,
                    301.15,
                    301.83,
                    301.88,
                    303.59,
                    299.72,
                    299.09,
                    302.01,
                    302.62,
                    304.65,
                    304.36,
                    296.77,
                    290.73,
                    293.08,
                    294.6,
                    292.85,
                    289.81,
                    286.95,
                    286.44,
                    288.33,
                    289.46,
                    289.52,
                    286.51,
                    287.12,
                    284.82,
                    284.91,
                    286.5,
                    286.22,
                    286.54,
                    289.05,
                    289.67,
                    286.14,
                    281.4,
                    279.32,
                    277.01,
                    280.75,
                    281.03,
                    282.51,
                    280.98,
                    277.32,
                    277.94,
                    277.42,
                    279.93,
                    277.66,
                    277.65,
                    271.6,
                    270.9,
                    271.4,
                    268.72,
                    265.02,
                    266.69,
                    265.275,
                    265.51,
                    262.63,
                    259.43,
                    260.9,
                    257.38,
                    258.36,
                    259.89,
                    257.89,
                    257.24,
                    253.59,
                    252.57,
                    253.81,
                    250.79,
                    245.71,
                    247.3,
                    247.4,
                    249.68,
                    249.31
                  ],
                  "yaxis": "y"
                }
              ],
              "layout": {
                "legend": {
                  "tracegroupgap": 0
                },
                "template": {
                  "data": {
                    "bar": [
                      {
                        "error_x": {
                          "color": "#2a3f5f"
                        },
                        "error_y": {
                          "color": "#2a3f5f"
                        },
                        "marker": {
                          "line": {
                            "color": "#E5ECF6",
                            "width": 0.5
                          },
                          "pattern": {
                            "fillmode": "overlay",
                            "size": 10,
                            "solidity": 0.2
                          }
                        },
                        "type": "bar"
                      }
                    ],
                    "barpolar": [
                      {
                        "marker": {
                          "line": {
                            "color": "#E5ECF6",
                            "width": 0.5
                          },
                          "pattern": {
                            "fillmode": "overlay",
                            "size": 10,
                            "solidity": 0.2
                          }
                        },
                        "type": "barpolar"
                      }
                    ],
                    "carpet": [
                      {
                        "aaxis": {
                          "endlinecolor": "#2a3f5f",
                          "gridcolor": "white",
                          "linecolor": "white",
                          "minorgridcolor": "white",
                          "startlinecolor": "#2a3f5f"
                        },
                        "baxis": {
                          "endlinecolor": "#2a3f5f",
                          "gridcolor": "white",
                          "linecolor": "white",
                          "minorgridcolor": "white",
                          "startlinecolor": "#2a3f5f"
                        },
                        "type": "carpet"
                      }
                    ],
                    "choropleth": [
                      {
                        "colorbar": {
                          "outlinewidth": 0,
                          "ticks": ""
                        },
                        "type": "choropleth"
                      }
                    ],
                    "contour": [
                      {
                        "colorbar": {
                          "outlinewidth": 0,
                          "ticks": ""
                        },
                        "colorscale": [
                          [
                            0,
                            "#0d0887"
                          ],
                          [
                            0.1111111111111111,
                            "#46039f"
                          ],
                          [
                            0.2222222222222222,
                            "#7201a8"
                          ],
                          [
                            0.3333333333333333,
                            "#9c179e"
                          ],
                          [
                            0.4444444444444444,
                            "#bd3786"
                          ],
                          [
                            0.5555555555555556,
                            "#d8576b"
                          ],
                          [
                            0.6666666666666666,
                            "#ed7953"
                          ],
                          [
                            0.7777777777777778,
                            "#fb9f3a"
                          ],
                          [
                            0.8888888888888888,
                            "#fdca26"
                          ],
                          [
                            1,
                            "#f0f921"
                          ]
                        ],
                        "type": "contour"
                      }
                    ],
                    "contourcarpet": [
                      {
                        "colorbar": {
                          "outlinewidth": 0,
                          "ticks": ""
                        },
                        "type": "contourcarpet"
                      }
                    ],
                    "heatmap": [
                      {
                        "colorbar": {
                          "outlinewidth": 0,
                          "ticks": ""
                        },
                        "colorscale": [
                          [
                            0,
                            "#0d0887"
                          ],
                          [
                            0.1111111111111111,
                            "#46039f"
                          ],
                          [
                            0.2222222222222222,
                            "#7201a8"
                          ],
                          [
                            0.3333333333333333,
                            "#9c179e"
                          ],
                          [
                            0.4444444444444444,
                            "#bd3786"
                          ],
                          [
                            0.5555555555555556,
                            "#d8576b"
                          ],
                          [
                            0.6666666666666666,
                            "#ed7953"
                          ],
                          [
                            0.7777777777777778,
                            "#fb9f3a"
                          ],
                          [
                            0.8888888888888888,
                            "#fdca26"
                          ],
                          [
                            1,
                            "#f0f921"
                          ]
                        ],
                        "type": "heatmap"
                      }
                    ],
                    "heatmapgl": [
                      {
                        "colorbar": {
                          "outlinewidth": 0,
                          "ticks": ""
                        },
                        "colorscale": [
                          [
                            0,
                            "#0d0887"
                          ],
                          [
                            0.1111111111111111,
                            "#46039f"
                          ],
                          [
                            0.2222222222222222,
                            "#7201a8"
                          ],
                          [
                            0.3333333333333333,
                            "#9c179e"
                          ],
                          [
                            0.4444444444444444,
                            "#bd3786"
                          ],
                          [
                            0.5555555555555556,
                            "#d8576b"
                          ],
                          [
                            0.6666666666666666,
                            "#ed7953"
                          ],
                          [
                            0.7777777777777778,
                            "#fb9f3a"
                          ],
                          [
                            0.8888888888888888,
                            "#fdca26"
                          ],
                          [
                            1,
                            "#f0f921"
                          ]
                        ],
                        "type": "heatmapgl"
                      }
                    ],
                    "histogram": [
                      {
                        "marker": {
                          "pattern": {
                            "fillmode": "overlay",
                            "size": 10,
                            "solidity": 0.2
                          }
                        },
                        "type": "histogram"
                      }
                    ],
                    "histogram2d": [
                      {
                        "colorbar": {
                          "outlinewidth": 0,
                          "ticks": ""
                        },
                        "colorscale": [
                          [
                            0,
                            "#0d0887"
                          ],
                          [
                            0.1111111111111111,
                            "#46039f"
                          ],
                          [
                            0.2222222222222222,
                            "#7201a8"
                          ],
                          [
                            0.3333333333333333,
                            "#9c179e"
                          ],
                          [
                            0.4444444444444444,
                            "#bd3786"
                          ],
                          [
                            0.5555555555555556,
                            "#d8576b"
                          ],
                          [
                            0.6666666666666666,
                            "#ed7953"
                          ],
                          [
                            0.7777777777777778,
                            "#fb9f3a"
                          ],
                          [
                            0.8888888888888888,
                            "#fdca26"
                          ],
                          [
                            1,
                            "#f0f921"
                          ]
                        ],
                        "type": "histogram2d"
                      }
                    ],
                    "histogram2dcontour": [
                      {
                        "colorbar": {
                          "outlinewidth": 0,
                          "ticks": ""
                        },
                        "colorscale": [
                          [
                            0,
                            "#0d0887"
                          ],
                          [
                            0.1111111111111111,
                            "#46039f"
                          ],
                          [
                            0.2222222222222222,
                            "#7201a8"
                          ],
                          [
                            0.3333333333333333,
                            "#9c179e"
                          ],
                          [
                            0.4444444444444444,
                            "#bd3786"
                          ],
                          [
                            0.5555555555555556,
                            "#d8576b"
                          ],
                          [
                            0.6666666666666666,
                            "#ed7953"
                          ],
                          [
                            0.7777777777777778,
                            "#fb9f3a"
                          ],
                          [
                            0.8888888888888888,
                            "#fdca26"
                          ],
                          [
                            1,
                            "#f0f921"
                          ]
                        ],
                        "type": "histogram2dcontour"
                      }
                    ],
                    "mesh3d": [
                      {
                        "colorbar": {
                          "outlinewidth": 0,
                          "ticks": ""
                        },
                        "type": "mesh3d"
                      }
                    ],
                    "parcoords": [
                      {
                        "line": {
                          "colorbar": {
                            "outlinewidth": 0,
                            "ticks": ""
                          }
                        },
                        "type": "parcoords"
                      }
                    ],
                    "pie": [
                      {
                        "automargin": true,
                        "type": "pie"
                      }
                    ],
                    "scatter": [
                      {
                        "fillpattern": {
                          "fillmode": "overlay",
                          "size": 10,
                          "solidity": 0.2
                        },
                        "type": "scatter"
                      }
                    ],
                    "scatter3d": [
                      {
                        "line": {
                          "colorbar": {
                            "outlinewidth": 0,
                            "ticks": ""
                          }
                        },
                        "marker": {
                          "colorbar": {
                            "outlinewidth": 0,
                            "ticks": ""
                          }
                        },
                        "type": "scatter3d"
                      }
                    ],
                    "scattercarpet": [
                      {
                        "marker": {
                          "colorbar": {
                            "outlinewidth": 0,
                            "ticks": ""
                          }
                        },
                        "type": "scattercarpet"
                      }
                    ],
                    "scattergeo": [
                      {
                        "marker": {
                          "colorbar": {
                            "outlinewidth": 0,
                            "ticks": ""
                          }
                        },
                        "type": "scattergeo"
                      }
                    ],
                    "scattergl": [
                      {
                        "marker": {
                          "colorbar": {
                            "outlinewidth": 0,
                            "ticks": ""
                          }
                        },
                        "type": "scattergl"
                      }
                    ],
                    "scattermapbox": [
                      {
                        "marker": {
                          "colorbar": {
                            "outlinewidth": 0,
                            "ticks": ""
                          }
                        },
                        "type": "scattermapbox"
                      }
                    ],
                    "scatterpolar": [
                      {
                        "marker": {
                          "colorbar": {
                            "outlinewidth": 0,
                            "ticks": ""
                          }
                        },
                        "type": "scatterpolar"
                      }
                    ],
                    "scatterpolargl": [
                      {
                        "marker": {
                          "colorbar": {
                            "outlinewidth": 0,
                            "ticks": ""
                          }
                        },
                        "type": "scatterpolargl"
                      }
                    ],
                    "scatterternary": [
                      {
                        "marker": {
                          "colorbar": {
                            "outlinewidth": 0,
                            "ticks": ""
                          }
                        },
                        "type": "scatterternary"
                      }
                    ],
                    "surface": [
                      {
                        "colorbar": {
                          "outlinewidth": 0,
                          "ticks": ""
                        },
                        "colorscale": [
                          [
                            0,
                            "#0d0887"
                          ],
                          [
                            0.1111111111111111,
                            "#46039f"
                          ],
                          [
                            0.2222222222222222,
                            "#7201a8"
                          ],
                          [
                            0.3333333333333333,
                            "#9c179e"
                          ],
                          [
                            0.4444444444444444,
                            "#bd3786"
                          ],
                          [
                            0.5555555555555556,
                            "#d8576b"
                          ],
                          [
                            0.6666666666666666,
                            "#ed7953"
                          ],
                          [
                            0.7777777777777778,
                            "#fb9f3a"
                          ],
                          [
                            0.8888888888888888,
                            "#fdca26"
                          ],
                          [
                            1,
                            "#f0f921"
                          ]
                        ],
                        "type": "surface"
                      }
                    ],
                    "table": [
                      {
                        "cells": {
                          "fill": {
                            "color": "#EBF0F8"
                          },
                          "line": {
                            "color": "white"
                          }
                        },
                        "header": {
                          "fill": {
                            "color": "#C8D4E3"
                          },
                          "line": {
                            "color": "white"
                          }
                        },
                        "type": "table"
                      }
                    ]
                  },
                  "layout": {
                    "annotationdefaults": {
                      "arrowcolor": "#2a3f5f",
                      "arrowhead": 0,
                      "arrowwidth": 1
                    },
                    "autotypenumbers": "strict",
                    "coloraxis": {
                      "colorbar": {
                        "outlinewidth": 0,
                        "ticks": ""
                      }
                    },
                    "colorscale": {
                      "diverging": [
                        [
                          0,
                          "#8e0152"
                        ],
                        [
                          0.1,
                          "#c51b7d"
                        ],
                        [
                          0.2,
                          "#de77ae"
                        ],
                        [
                          0.3,
                          "#f1b6da"
                        ],
                        [
                          0.4,
                          "#fde0ef"
                        ],
                        [
                          0.5,
                          "#f7f7f7"
                        ],
                        [
                          0.6,
                          "#e6f5d0"
                        ],
                        [
                          0.7,
                          "#b8e186"
                        ],
                        [
                          0.8,
                          "#7fbc41"
                        ],
                        [
                          0.9,
                          "#4d9221"
                        ],
                        [
                          1,
                          "#276419"
                        ]
                      ],
                      "sequential": [
                        [
                          0,
                          "#0d0887"
                        ],
                        [
                          0.1111111111111111,
                          "#46039f"
                        ],
                        [
                          0.2222222222222222,
                          "#7201a8"
                        ],
                        [
                          0.3333333333333333,
                          "#9c179e"
                        ],
                        [
                          0.4444444444444444,
                          "#bd3786"
                        ],
                        [
                          0.5555555555555556,
                          "#d8576b"
                        ],
                        [
                          0.6666666666666666,
                          "#ed7953"
                        ],
                        [
                          0.7777777777777778,
                          "#fb9f3a"
                        ],
                        [
                          0.8888888888888888,
                          "#fdca26"
                        ],
                        [
                          1,
                          "#f0f921"
                        ]
                      ],
                      "sequentialminus": [
                        [
                          0,
                          "#0d0887"
                        ],
                        [
                          0.1111111111111111,
                          "#46039f"
                        ],
                        [
                          0.2222222222222222,
                          "#7201a8"
                        ],
                        [
                          0.3333333333333333,
                          "#9c179e"
                        ],
                        [
                          0.4444444444444444,
                          "#bd3786"
                        ],
                        [
                          0.5555555555555556,
                          "#d8576b"
                        ],
                        [
                          0.6666666666666666,
                          "#ed7953"
                        ],
                        [
                          0.7777777777777778,
                          "#fb9f3a"
                        ],
                        [
                          0.8888888888888888,
                          "#fdca26"
                        ],
                        [
                          1,
                          "#f0f921"
                        ]
                      ]
                    },
                    "colorway": [
                      "#636efa",
                      "#EF553B",
                      "#00cc96",
                      "#ab63fa",
                      "#FFA15A",
                      "#19d3f3",
                      "#FF6692",
                      "#B6E880",
                      "#FF97FF",
                      "#FECB52"
                    ],
                    "font": {
                      "color": "#2a3f5f"
                    },
                    "geo": {
                      "bgcolor": "white",
                      "lakecolor": "white",
                      "landcolor": "#E5ECF6",
                      "showlakes": true,
                      "showland": true,
                      "subunitcolor": "white"
                    },
                    "hoverlabel": {
                      "align": "left"
                    },
                    "hovermode": "closest",
                    "mapbox": {
                      "style": "light"
                    },
                    "paper_bgcolor": "white",
                    "plot_bgcolor": "#E5ECF6",
                    "polar": {
                      "angularaxis": {
                        "gridcolor": "white",
                        "linecolor": "white",
                        "ticks": ""
                      },
                      "bgcolor": "#E5ECF6",
                      "radialaxis": {
                        "gridcolor": "white",
                        "linecolor": "white",
                        "ticks": ""
                      }
                    },
                    "scene": {
                      "xaxis": {
                        "backgroundcolor": "#E5ECF6",
                        "gridcolor": "white",
                        "gridwidth": 2,
                        "linecolor": "white",
                        "showbackground": true,
                        "ticks": "",
                        "zerolinecolor": "white"
                      },
                      "yaxis": {
                        "backgroundcolor": "#E5ECF6",
                        "gridcolor": "white",
                        "gridwidth": 2,
                        "linecolor": "white",
                        "showbackground": true,
                        "ticks": "",
                        "zerolinecolor": "white"
                      },
                      "zaxis": {
                        "backgroundcolor": "#E5ECF6",
                        "gridcolor": "white",
                        "gridwidth": 2,
                        "linecolor": "white",
                        "showbackground": true,
                        "ticks": "",
                        "zerolinecolor": "white"
                      }
                    },
                    "shapedefaults": {
                      "line": {
                        "color": "#2a3f5f"
                      }
                    },
                    "ternary": {
                      "aaxis": {
                        "gridcolor": "white",
                        "linecolor": "white",
                        "ticks": ""
                      },
                      "baxis": {
                        "gridcolor": "white",
                        "linecolor": "white",
                        "ticks": ""
                      },
                      "bgcolor": "#E5ECF6",
                      "caxis": {
                        "gridcolor": "white",
                        "linecolor": "white",
                        "ticks": ""
                      }
                    },
                    "title": {
                      "x": 0.05
                    },
                    "xaxis": {
                      "automargin": true,
                      "gridcolor": "white",
                      "linecolor": "white",
                      "ticks": "",
                      "title": {
                        "standoff": 15
                      },
                      "zerolinecolor": "white",
                      "zerolinewidth": 2
                    },
                    "yaxis": {
                      "automargin": true,
                      "gridcolor": "white",
                      "linecolor": "white",
                      "ticks": "",
                      "title": {
                        "standoff": 15
                      },
                      "zerolinecolor": "white",
                      "zerolinewidth": 2
                    }
                  }
                },
                "title": {
                  "text": "Daily Stock Prices (MSFT)"
                },
                "xaxis": {
                  "anchor": "y",
                  "domain": [
                    0,
                    1
                  ],
                  "title": {
                    "text": "Date"
                  }
                },
                "yaxis": {
                  "anchor": "x",
                  "domain": [
                    0,
                    1
                  ],
                  "nticks": 10,
                  "title": {
                    "text": "Closing Price"
                  }
                }
              }
            }
          },
          "metadata": {},
          "output_type": "display_data"
        }
      ],
      "source": [
        "# If your function works, we should be able to uncomment the lines below and use it like this:\n",
        "\n",
        "#generate_stocks_report()\n",
        "generate_stocks_report(\"MSFT\")"
      ]
    },
    {
      "cell_type": "code",
      "execution_count": 113,
      "metadata": {},
      "outputs": [],
      "source": [
        "#STOCK DATA USING API AND ALPHAVANTAGE\n",
        "#url = f\"https://www.alphavantage.co/query?function=TIME_SERIES_DAILY&symbol={symbol}&apikey={api_key}&datatype=csv\"\n",
        "    "
      ]
    },
    {
      "cell_type": "markdown",
      "metadata": {
        "id": "b7MgzGtogBMq"
      },
      "source": [
        "## Stocks Data Dashboard\n",
        "\n",
        "If your function works, we should be able to use it in the dashboard below:\n",
        "\n",
        " 1. Use the dropdown to select a stock symbol.\n",
        " 2. Run run the cell to generate a report and chart chart of prices over time."
      ]
    },
    {
      "cell_type": "code",
      "execution_count": 114,
      "metadata": {
        "id": "tQ9-AlkkQJ8F"
      },
      "outputs": [
        {
          "name": "stdout",
          "output_type": "stream",
          "text": [
            "Stock Report: AAPL\n",
            "...Available Information: ['timestamp', 'open', 'high', 'low', 'close', 'adjusted_close', 'volume', 'dividend_amount', 'split_coefficient']\n",
            "...Total Records: 100\n",
            "...Latest Date: 2021-10-19\n",
            "...Earliest Date: 2021-05-28\n",
            "...Adjusted Closing Price on 2021-10-19: $148.76\n",
            "...Adjusted Closing Price on 2021-05-28: $124.42\n",
            "...100 Day High: $157.26\n",
            "...100 Day Low: $123.13\n",
            "...Closing Price Percentage Change: 19.3548%\n",
            "...50 Day Moving Average: $145.51\n"
          ]
        },
        {
          "data": {
            "application/vnd.plotly.v1+json": {
              "config": {
                "plotlyServerURL": "https://plot.ly"
              },
              "data": [
                {
                  "hovertemplate": "Date=%{x}<br>Closing Price=%{y}<extra></extra>",
                  "legendgroup": "",
                  "line": {
                    "color": "#636efa",
                    "dash": "solid"
                  },
                  "marker": {
                    "symbol": "circle"
                  },
                  "mode": "lines",
                  "name": "",
                  "orientation": "v",
                  "showlegend": false,
                  "type": "scatter",
                  "x": [
                    "2021-10-19",
                    "2021-10-18",
                    "2021-10-15",
                    "2021-10-14",
                    "2021-10-13",
                    "2021-10-12",
                    "2021-10-11",
                    "2021-10-08",
                    "2021-10-07",
                    "2021-10-06",
                    "2021-10-05",
                    "2021-10-04",
                    "2021-10-01",
                    "2021-09-30",
                    "2021-09-29",
                    "2021-09-28",
                    "2021-09-27",
                    "2021-09-24",
                    "2021-09-23",
                    "2021-09-22",
                    "2021-09-21",
                    "2021-09-20",
                    "2021-09-17",
                    "2021-09-16",
                    "2021-09-15",
                    "2021-09-14",
                    "2021-09-13",
                    "2021-09-10",
                    "2021-09-09",
                    "2021-09-08",
                    "2021-09-07",
                    "2021-09-03",
                    "2021-09-02",
                    "2021-09-01",
                    "2021-08-31",
                    "2021-08-30",
                    "2021-08-27",
                    "2021-08-26",
                    "2021-08-25",
                    "2021-08-24",
                    "2021-08-23",
                    "2021-08-20",
                    "2021-08-19",
                    "2021-08-18",
                    "2021-08-17",
                    "2021-08-16",
                    "2021-08-13",
                    "2021-08-12",
                    "2021-08-11",
                    "2021-08-10",
                    "2021-08-09",
                    "2021-08-06",
                    "2021-08-05",
                    "2021-08-04",
                    "2021-08-03",
                    "2021-08-02",
                    "2021-07-30",
                    "2021-07-29",
                    "2021-07-28",
                    "2021-07-27",
                    "2021-07-26",
                    "2021-07-23",
                    "2021-07-22",
                    "2021-07-21",
                    "2021-07-20",
                    "2021-07-19",
                    "2021-07-16",
                    "2021-07-15",
                    "2021-07-14",
                    "2021-07-13",
                    "2021-07-12",
                    "2021-07-09",
                    "2021-07-08",
                    "2021-07-07",
                    "2021-07-06",
                    "2021-07-02",
                    "2021-07-01",
                    "2021-06-30",
                    "2021-06-29",
                    "2021-06-28",
                    "2021-06-25",
                    "2021-06-24",
                    "2021-06-23",
                    "2021-06-22",
                    "2021-06-21",
                    "2021-06-18",
                    "2021-06-17",
                    "2021-06-16",
                    "2021-06-15",
                    "2021-06-14",
                    "2021-06-11",
                    "2021-06-10",
                    "2021-06-09",
                    "2021-06-08",
                    "2021-06-07",
                    "2021-06-04",
                    "2021-06-03",
                    "2021-06-02",
                    "2021-06-01",
                    "2021-05-28"
                  ],
                  "xaxis": "x",
                  "y": [
                    148.76,
                    146.55,
                    144.84,
                    143.76,
                    140.91,
                    141.51,
                    142.81,
                    142.9,
                    143.29,
                    142,
                    141.11,
                    139.14,
                    142.65,
                    141.5,
                    142.83,
                    141.91,
                    145.37,
                    146.92,
                    146.83,
                    145.85,
                    143.43,
                    142.94,
                    146.06,
                    148.79,
                    149.03,
                    148.12,
                    149.55,
                    148.97,
                    154.07,
                    155.11,
                    156.69,
                    154.3,
                    153.65,
                    152.51,
                    151.83,
                    153.12,
                    148.6,
                    147.54,
                    148.36,
                    149.62,
                    149.71,
                    148.19,
                    146.7,
                    146.36,
                    150.19,
                    151.12,
                    149.1,
                    148.89,
                    145.86,
                    145.6,
                    146.09,
                    146.14,
                    147.06,
                    146.95,
                    147.36,
                    145.52,
                    145.86,
                    145.64,
                    144.98,
                    146.77,
                    148.99,
                    148.56,
                    146.8,
                    145.4,
                    146.15,
                    142.45,
                    146.39,
                    148.48,
                    149.15,
                    145.64,
                    144.5,
                    145.11,
                    143.24,
                    144.57,
                    142.02,
                    139.96,
                    137.27,
                    136.96,
                    136.33,
                    134.78,
                    133.11,
                    133.41,
                    133.7,
                    133.98,
                    132.3,
                    130.46,
                    131.79,
                    130.15,
                    129.64,
                    130.48,
                    127.35,
                    126.11,
                    127.13,
                    126.74,
                    125.9,
                    125.89,
                    123.54,
                    125.06,
                    124.28,
                    124.61
                  ],
                  "yaxis": "y"
                }
              ],
              "layout": {
                "legend": {
                  "tracegroupgap": 0
                },
                "template": {
                  "data": {
                    "bar": [
                      {
                        "error_x": {
                          "color": "#2a3f5f"
                        },
                        "error_y": {
                          "color": "#2a3f5f"
                        },
                        "marker": {
                          "line": {
                            "color": "#E5ECF6",
                            "width": 0.5
                          },
                          "pattern": {
                            "fillmode": "overlay",
                            "size": 10,
                            "solidity": 0.2
                          }
                        },
                        "type": "bar"
                      }
                    ],
                    "barpolar": [
                      {
                        "marker": {
                          "line": {
                            "color": "#E5ECF6",
                            "width": 0.5
                          },
                          "pattern": {
                            "fillmode": "overlay",
                            "size": 10,
                            "solidity": 0.2
                          }
                        },
                        "type": "barpolar"
                      }
                    ],
                    "carpet": [
                      {
                        "aaxis": {
                          "endlinecolor": "#2a3f5f",
                          "gridcolor": "white",
                          "linecolor": "white",
                          "minorgridcolor": "white",
                          "startlinecolor": "#2a3f5f"
                        },
                        "baxis": {
                          "endlinecolor": "#2a3f5f",
                          "gridcolor": "white",
                          "linecolor": "white",
                          "minorgridcolor": "white",
                          "startlinecolor": "#2a3f5f"
                        },
                        "type": "carpet"
                      }
                    ],
                    "choropleth": [
                      {
                        "colorbar": {
                          "outlinewidth": 0,
                          "ticks": ""
                        },
                        "type": "choropleth"
                      }
                    ],
                    "contour": [
                      {
                        "colorbar": {
                          "outlinewidth": 0,
                          "ticks": ""
                        },
                        "colorscale": [
                          [
                            0,
                            "#0d0887"
                          ],
                          [
                            0.1111111111111111,
                            "#46039f"
                          ],
                          [
                            0.2222222222222222,
                            "#7201a8"
                          ],
                          [
                            0.3333333333333333,
                            "#9c179e"
                          ],
                          [
                            0.4444444444444444,
                            "#bd3786"
                          ],
                          [
                            0.5555555555555556,
                            "#d8576b"
                          ],
                          [
                            0.6666666666666666,
                            "#ed7953"
                          ],
                          [
                            0.7777777777777778,
                            "#fb9f3a"
                          ],
                          [
                            0.8888888888888888,
                            "#fdca26"
                          ],
                          [
                            1,
                            "#f0f921"
                          ]
                        ],
                        "type": "contour"
                      }
                    ],
                    "contourcarpet": [
                      {
                        "colorbar": {
                          "outlinewidth": 0,
                          "ticks": ""
                        },
                        "type": "contourcarpet"
                      }
                    ],
                    "heatmap": [
                      {
                        "colorbar": {
                          "outlinewidth": 0,
                          "ticks": ""
                        },
                        "colorscale": [
                          [
                            0,
                            "#0d0887"
                          ],
                          [
                            0.1111111111111111,
                            "#46039f"
                          ],
                          [
                            0.2222222222222222,
                            "#7201a8"
                          ],
                          [
                            0.3333333333333333,
                            "#9c179e"
                          ],
                          [
                            0.4444444444444444,
                            "#bd3786"
                          ],
                          [
                            0.5555555555555556,
                            "#d8576b"
                          ],
                          [
                            0.6666666666666666,
                            "#ed7953"
                          ],
                          [
                            0.7777777777777778,
                            "#fb9f3a"
                          ],
                          [
                            0.8888888888888888,
                            "#fdca26"
                          ],
                          [
                            1,
                            "#f0f921"
                          ]
                        ],
                        "type": "heatmap"
                      }
                    ],
                    "heatmapgl": [
                      {
                        "colorbar": {
                          "outlinewidth": 0,
                          "ticks": ""
                        },
                        "colorscale": [
                          [
                            0,
                            "#0d0887"
                          ],
                          [
                            0.1111111111111111,
                            "#46039f"
                          ],
                          [
                            0.2222222222222222,
                            "#7201a8"
                          ],
                          [
                            0.3333333333333333,
                            "#9c179e"
                          ],
                          [
                            0.4444444444444444,
                            "#bd3786"
                          ],
                          [
                            0.5555555555555556,
                            "#d8576b"
                          ],
                          [
                            0.6666666666666666,
                            "#ed7953"
                          ],
                          [
                            0.7777777777777778,
                            "#fb9f3a"
                          ],
                          [
                            0.8888888888888888,
                            "#fdca26"
                          ],
                          [
                            1,
                            "#f0f921"
                          ]
                        ],
                        "type": "heatmapgl"
                      }
                    ],
                    "histogram": [
                      {
                        "marker": {
                          "pattern": {
                            "fillmode": "overlay",
                            "size": 10,
                            "solidity": 0.2
                          }
                        },
                        "type": "histogram"
                      }
                    ],
                    "histogram2d": [
                      {
                        "colorbar": {
                          "outlinewidth": 0,
                          "ticks": ""
                        },
                        "colorscale": [
                          [
                            0,
                            "#0d0887"
                          ],
                          [
                            0.1111111111111111,
                            "#46039f"
                          ],
                          [
                            0.2222222222222222,
                            "#7201a8"
                          ],
                          [
                            0.3333333333333333,
                            "#9c179e"
                          ],
                          [
                            0.4444444444444444,
                            "#bd3786"
                          ],
                          [
                            0.5555555555555556,
                            "#d8576b"
                          ],
                          [
                            0.6666666666666666,
                            "#ed7953"
                          ],
                          [
                            0.7777777777777778,
                            "#fb9f3a"
                          ],
                          [
                            0.8888888888888888,
                            "#fdca26"
                          ],
                          [
                            1,
                            "#f0f921"
                          ]
                        ],
                        "type": "histogram2d"
                      }
                    ],
                    "histogram2dcontour": [
                      {
                        "colorbar": {
                          "outlinewidth": 0,
                          "ticks": ""
                        },
                        "colorscale": [
                          [
                            0,
                            "#0d0887"
                          ],
                          [
                            0.1111111111111111,
                            "#46039f"
                          ],
                          [
                            0.2222222222222222,
                            "#7201a8"
                          ],
                          [
                            0.3333333333333333,
                            "#9c179e"
                          ],
                          [
                            0.4444444444444444,
                            "#bd3786"
                          ],
                          [
                            0.5555555555555556,
                            "#d8576b"
                          ],
                          [
                            0.6666666666666666,
                            "#ed7953"
                          ],
                          [
                            0.7777777777777778,
                            "#fb9f3a"
                          ],
                          [
                            0.8888888888888888,
                            "#fdca26"
                          ],
                          [
                            1,
                            "#f0f921"
                          ]
                        ],
                        "type": "histogram2dcontour"
                      }
                    ],
                    "mesh3d": [
                      {
                        "colorbar": {
                          "outlinewidth": 0,
                          "ticks": ""
                        },
                        "type": "mesh3d"
                      }
                    ],
                    "parcoords": [
                      {
                        "line": {
                          "colorbar": {
                            "outlinewidth": 0,
                            "ticks": ""
                          }
                        },
                        "type": "parcoords"
                      }
                    ],
                    "pie": [
                      {
                        "automargin": true,
                        "type": "pie"
                      }
                    ],
                    "scatter": [
                      {
                        "fillpattern": {
                          "fillmode": "overlay",
                          "size": 10,
                          "solidity": 0.2
                        },
                        "type": "scatter"
                      }
                    ],
                    "scatter3d": [
                      {
                        "line": {
                          "colorbar": {
                            "outlinewidth": 0,
                            "ticks": ""
                          }
                        },
                        "marker": {
                          "colorbar": {
                            "outlinewidth": 0,
                            "ticks": ""
                          }
                        },
                        "type": "scatter3d"
                      }
                    ],
                    "scattercarpet": [
                      {
                        "marker": {
                          "colorbar": {
                            "outlinewidth": 0,
                            "ticks": ""
                          }
                        },
                        "type": "scattercarpet"
                      }
                    ],
                    "scattergeo": [
                      {
                        "marker": {
                          "colorbar": {
                            "outlinewidth": 0,
                            "ticks": ""
                          }
                        },
                        "type": "scattergeo"
                      }
                    ],
                    "scattergl": [
                      {
                        "marker": {
                          "colorbar": {
                            "outlinewidth": 0,
                            "ticks": ""
                          }
                        },
                        "type": "scattergl"
                      }
                    ],
                    "scattermapbox": [
                      {
                        "marker": {
                          "colorbar": {
                            "outlinewidth": 0,
                            "ticks": ""
                          }
                        },
                        "type": "scattermapbox"
                      }
                    ],
                    "scatterpolar": [
                      {
                        "marker": {
                          "colorbar": {
                            "outlinewidth": 0,
                            "ticks": ""
                          }
                        },
                        "type": "scatterpolar"
                      }
                    ],
                    "scatterpolargl": [
                      {
                        "marker": {
                          "colorbar": {
                            "outlinewidth": 0,
                            "ticks": ""
                          }
                        },
                        "type": "scatterpolargl"
                      }
                    ],
                    "scatterternary": [
                      {
                        "marker": {
                          "colorbar": {
                            "outlinewidth": 0,
                            "ticks": ""
                          }
                        },
                        "type": "scatterternary"
                      }
                    ],
                    "surface": [
                      {
                        "colorbar": {
                          "outlinewidth": 0,
                          "ticks": ""
                        },
                        "colorscale": [
                          [
                            0,
                            "#0d0887"
                          ],
                          [
                            0.1111111111111111,
                            "#46039f"
                          ],
                          [
                            0.2222222222222222,
                            "#7201a8"
                          ],
                          [
                            0.3333333333333333,
                            "#9c179e"
                          ],
                          [
                            0.4444444444444444,
                            "#bd3786"
                          ],
                          [
                            0.5555555555555556,
                            "#d8576b"
                          ],
                          [
                            0.6666666666666666,
                            "#ed7953"
                          ],
                          [
                            0.7777777777777778,
                            "#fb9f3a"
                          ],
                          [
                            0.8888888888888888,
                            "#fdca26"
                          ],
                          [
                            1,
                            "#f0f921"
                          ]
                        ],
                        "type": "surface"
                      }
                    ],
                    "table": [
                      {
                        "cells": {
                          "fill": {
                            "color": "#EBF0F8"
                          },
                          "line": {
                            "color": "white"
                          }
                        },
                        "header": {
                          "fill": {
                            "color": "#C8D4E3"
                          },
                          "line": {
                            "color": "white"
                          }
                        },
                        "type": "table"
                      }
                    ]
                  },
                  "layout": {
                    "annotationdefaults": {
                      "arrowcolor": "#2a3f5f",
                      "arrowhead": 0,
                      "arrowwidth": 1
                    },
                    "autotypenumbers": "strict",
                    "coloraxis": {
                      "colorbar": {
                        "outlinewidth": 0,
                        "ticks": ""
                      }
                    },
                    "colorscale": {
                      "diverging": [
                        [
                          0,
                          "#8e0152"
                        ],
                        [
                          0.1,
                          "#c51b7d"
                        ],
                        [
                          0.2,
                          "#de77ae"
                        ],
                        [
                          0.3,
                          "#f1b6da"
                        ],
                        [
                          0.4,
                          "#fde0ef"
                        ],
                        [
                          0.5,
                          "#f7f7f7"
                        ],
                        [
                          0.6,
                          "#e6f5d0"
                        ],
                        [
                          0.7,
                          "#b8e186"
                        ],
                        [
                          0.8,
                          "#7fbc41"
                        ],
                        [
                          0.9,
                          "#4d9221"
                        ],
                        [
                          1,
                          "#276419"
                        ]
                      ],
                      "sequential": [
                        [
                          0,
                          "#0d0887"
                        ],
                        [
                          0.1111111111111111,
                          "#46039f"
                        ],
                        [
                          0.2222222222222222,
                          "#7201a8"
                        ],
                        [
                          0.3333333333333333,
                          "#9c179e"
                        ],
                        [
                          0.4444444444444444,
                          "#bd3786"
                        ],
                        [
                          0.5555555555555556,
                          "#d8576b"
                        ],
                        [
                          0.6666666666666666,
                          "#ed7953"
                        ],
                        [
                          0.7777777777777778,
                          "#fb9f3a"
                        ],
                        [
                          0.8888888888888888,
                          "#fdca26"
                        ],
                        [
                          1,
                          "#f0f921"
                        ]
                      ],
                      "sequentialminus": [
                        [
                          0,
                          "#0d0887"
                        ],
                        [
                          0.1111111111111111,
                          "#46039f"
                        ],
                        [
                          0.2222222222222222,
                          "#7201a8"
                        ],
                        [
                          0.3333333333333333,
                          "#9c179e"
                        ],
                        [
                          0.4444444444444444,
                          "#bd3786"
                        ],
                        [
                          0.5555555555555556,
                          "#d8576b"
                        ],
                        [
                          0.6666666666666666,
                          "#ed7953"
                        ],
                        [
                          0.7777777777777778,
                          "#fb9f3a"
                        ],
                        [
                          0.8888888888888888,
                          "#fdca26"
                        ],
                        [
                          1,
                          "#f0f921"
                        ]
                      ]
                    },
                    "colorway": [
                      "#636efa",
                      "#EF553B",
                      "#00cc96",
                      "#ab63fa",
                      "#FFA15A",
                      "#19d3f3",
                      "#FF6692",
                      "#B6E880",
                      "#FF97FF",
                      "#FECB52"
                    ],
                    "font": {
                      "color": "#2a3f5f"
                    },
                    "geo": {
                      "bgcolor": "white",
                      "lakecolor": "white",
                      "landcolor": "#E5ECF6",
                      "showlakes": true,
                      "showland": true,
                      "subunitcolor": "white"
                    },
                    "hoverlabel": {
                      "align": "left"
                    },
                    "hovermode": "closest",
                    "mapbox": {
                      "style": "light"
                    },
                    "paper_bgcolor": "white",
                    "plot_bgcolor": "#E5ECF6",
                    "polar": {
                      "angularaxis": {
                        "gridcolor": "white",
                        "linecolor": "white",
                        "ticks": ""
                      },
                      "bgcolor": "#E5ECF6",
                      "radialaxis": {
                        "gridcolor": "white",
                        "linecolor": "white",
                        "ticks": ""
                      }
                    },
                    "scene": {
                      "xaxis": {
                        "backgroundcolor": "#E5ECF6",
                        "gridcolor": "white",
                        "gridwidth": 2,
                        "linecolor": "white",
                        "showbackground": true,
                        "ticks": "",
                        "zerolinecolor": "white"
                      },
                      "yaxis": {
                        "backgroundcolor": "#E5ECF6",
                        "gridcolor": "white",
                        "gridwidth": 2,
                        "linecolor": "white",
                        "showbackground": true,
                        "ticks": "",
                        "zerolinecolor": "white"
                      },
                      "zaxis": {
                        "backgroundcolor": "#E5ECF6",
                        "gridcolor": "white",
                        "gridwidth": 2,
                        "linecolor": "white",
                        "showbackground": true,
                        "ticks": "",
                        "zerolinecolor": "white"
                      }
                    },
                    "shapedefaults": {
                      "line": {
                        "color": "#2a3f5f"
                      }
                    },
                    "ternary": {
                      "aaxis": {
                        "gridcolor": "white",
                        "linecolor": "white",
                        "ticks": ""
                      },
                      "baxis": {
                        "gridcolor": "white",
                        "linecolor": "white",
                        "ticks": ""
                      },
                      "bgcolor": "#E5ECF6",
                      "caxis": {
                        "gridcolor": "white",
                        "linecolor": "white",
                        "ticks": ""
                      }
                    },
                    "title": {
                      "x": 0.05
                    },
                    "xaxis": {
                      "automargin": true,
                      "gridcolor": "white",
                      "linecolor": "white",
                      "ticks": "",
                      "title": {
                        "standoff": 15
                      },
                      "zerolinecolor": "white",
                      "zerolinewidth": 2
                    },
                    "yaxis": {
                      "automargin": true,
                      "gridcolor": "white",
                      "linecolor": "white",
                      "ticks": "",
                      "title": {
                        "standoff": 15
                      },
                      "zerolinecolor": "white",
                      "zerolinewidth": 2
                    }
                  }
                },
                "title": {
                  "text": "Daily Stock Prices (AAPL)"
                },
                "xaxis": {
                  "anchor": "y",
                  "domain": [
                    0,
                    1
                  ],
                  "title": {
                    "text": "Date"
                  }
                },
                "yaxis": {
                  "anchor": "x",
                  "domain": [
                    0,
                    1
                  ],
                  "nticks": 10,
                  "title": {
                    "text": "Closing Price"
                  }
                }
              }
            }
          },
          "metadata": {},
          "output_type": "display_data"
        }
      ],
      "source": [
        "# @title Stock Selection Form\n",
        "symbol = \"AAPL\" # @param ['MSFT', 'GOOGL', 'AAPL', 'NFLX', \"SBUX\", \"TSLA\", \"DIS\"]\n",
        "generate_stocks_report(symbol)"
      ]
    },
    {
      "cell_type": "markdown",
      "metadata": {
        "id": "bVmfvyo6dTDo"
      },
      "source": [
        "\n",
        "# Scratch Work\n"
      ]
    },
    {
      "cell_type": "markdown",
      "metadata": {
        "id": "i0Ufh9nP4L5u"
      },
      "source": [
        "\n",
        "Optionally use these cells as scratch-work to practice your ability to produce the desired dataviz. \n",
        "\n",
        "> NOTE: These practice cells won't be evaluated. Only the report generation function above will be evaluated. So make sure that your final work ends up in the report generation function!\n",
        "\n",
        "\n",
        "\n"
      ]
    }
  ],
  "metadata": {
    "colab": {
      "collapsed_sections": [
        "gAn-noRWuwvN",
        "Nt4JHIjW5Sc7"
      ],
      "include_colab_link": true,
      "name": "Stocks Dashboard (Summer 2022)",
      "provenance": []
    },
    "kernelspec": {
      "display_name": "Python 3.10.1 64-bit",
      "language": "python",
      "name": "python3"
    },
    "language_info": {
      "codemirror_mode": {
        "name": "ipython",
        "version": 3
      },
      "file_extension": ".py",
      "mimetype": "text/x-python",
      "name": "python",
      "nbconvert_exporter": "python",
      "pygments_lexer": "ipython3",
      "version": "3.10.1"
    },
    "vscode": {
      "interpreter": {
        "hash": "ab65a6a126614c4d8a09c3bb162b3d2e4f4a949753c6f0f735c7c1fe269df83b"
      }
    }
  },
  "nbformat": 4,
  "nbformat_minor": 0
}
